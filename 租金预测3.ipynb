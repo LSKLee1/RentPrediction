{
 "cells": [
  {
   "cell_type": "code",
   "execution_count": 7,
   "metadata": {
    "scrolled": true
   },
   "outputs": [
    {
     "name": "stdout",
     "output_type": "stream",
     "text": [
      "--------------------------------------------------train简单查看统计学信息--------------------------------------------------\n",
      "<class 'pandas.core.frame.DataFrame'>\n",
      "RangeIndex: 196539 entries, 0 to 196538\n",
      "Data columns (total 19 columns):\n",
      "时间          196539 non-null int64\n",
      "小区名         196539 non-null int64\n",
      "小区房屋出租数量    195538 non-null float64\n",
      "楼层          196539 non-null int64\n",
      "总楼层         196539 non-null float64\n",
      "房屋面积        196539 non-null float64\n",
      "房屋朝向        196539 non-null object\n",
      "居住状态        20138 non-null float64\n",
      "卧室数量        196539 non-null int64\n",
      "厅的数量        196539 non-null int64\n",
      "卫的数量        196539 non-null int64\n",
      "出租方式        24230 non-null float64\n",
      "区           196508 non-null float64\n",
      "位置          196508 non-null float64\n",
      "地铁线路        91778 non-null float64\n",
      "地铁站点        91778 non-null float64\n",
      "距离          91778 non-null float64\n",
      "装修情况        18492 non-null float64\n",
      "月租金         196539 non-null float64\n",
      "dtypes: float64(12), int64(6), object(1)\n",
      "memory usage: 28.5+ MB\n",
      "None\n",
      "--------------------------------------------------test简单查看统计学信息--------------------------------------------------\n",
      "<class 'pandas.core.frame.DataFrame'>\n",
      "RangeIndex: 56279 entries, 0 to 56278\n",
      "Data columns (total 18 columns):\n",
      "时间          56279 non-null int64\n",
      "小区名         56279 non-null int64\n",
      "小区房屋出租数量    56257 non-null float64\n",
      "楼层          56279 non-null int64\n",
      "总楼层         56279 non-null float64\n",
      "房屋面积        56279 non-null float64\n",
      "房屋朝向        56279 non-null object\n",
      "居住状态        4483 non-null float64\n",
      "卧室数量        56279 non-null int64\n",
      "厅的数量        56279 non-null int64\n",
      "卫的数量        56279 non-null int64\n",
      "出租方式        4971 non-null float64\n",
      "区           56269 non-null float64\n",
      "位置          56269 non-null float64\n",
      "地铁线路        26494 non-null float64\n",
      "地铁站点        26494 non-null float64\n",
      "距离          26494 non-null float64\n",
      "装修情况        4207 non-null float64\n",
      "dtypes: float64(11), int64(6), object(1)\n",
      "memory usage: 7.7+ MB\n",
      "None\n",
      "--------------------------------------------------train查看缺失值--------------------------------------------------\n",
      "装修情况        178047\n",
      "居住状态        176401\n",
      "出租方式        172309\n",
      "距离          104761\n",
      "地铁站点        104761\n",
      "地铁线路        104761\n",
      "小区房屋出租数量      1001\n",
      "位置              31\n",
      "区               31\n",
      "月租金              0\n",
      "dtype: int64\n",
      "--------------------------------------------------test查看缺失值--------------------------------------------------\n",
      "装修情况        52072\n",
      "居住状态        51796\n",
      "出租方式        51308\n",
      "地铁站点        29785\n",
      "地铁线路        29785\n",
      "距离          29785\n",
      "小区房屋出租数量       22\n",
      "位置             10\n",
      "区              10\n",
      "总楼层             0\n",
      "dtype: int64\n"
     ]
    }
   ],
   "source": [
    "import numpy as np\n",
    "import pandas as pd\n",
    "import seaborn as sns\n",
    "import matplotlib.pyplot as plt\n",
    "import warnings\n",
    "warnings.filterwarnings(\"ignore\")\n",
    "\n",
    "house = pd.read_csv(\"train.csv\")\n",
    "houseTest = pd.read_csv(\"test.csv\")\n",
    "\n",
    "Id = houseTest[\"id\"]\n",
    "houseTest = houseTest.drop([\"id\"],axis=1)\n",
    "\n",
    "\n",
    "# house\n",
    "print(\"-\"*50+ \"train简单查看统计学信息\" +\"-\"*50)\n",
    "print(house.info())\n",
    "print(\"-\"*50+ \"test简单查看统计学信息\" +\"-\"*50)\n",
    "print(houseTest.info())\n",
    "\n",
    "print(\"-\"*50 + \"train查看缺失值\" + \"-\"*50)\n",
    "print(house.isnull().sum().sort_values(ascending=False).head(10))\n",
    "print(\"-\"*50 + \"test查看缺失值\" + \"-\"*50)\n",
    "print(houseTest.isnull().sum().sort_values(ascending=False).head(10))\n",
    "\n"
   ]
  },
  {
   "cell_type": "code",
   "execution_count": 8,
   "metadata": {
    "scrolled": false
   },
   "outputs": [
    {
     "name": "stdout",
     "output_type": "stream",
     "text": [
      "--------------------------------------------------train查看缺失值--------------------------------------------------\n",
      "装修情况        178047\n",
      "居住状态        176401\n",
      "出租方式        172309\n",
      "距离          104761\n",
      "地铁站点        104761\n",
      "地铁线路        104761\n",
      "月租金              0\n",
      "房屋面积             0\n",
      "小区名              0\n",
      "小区房屋出租数量         0\n",
      "dtype: int64\n",
      "--------------------------------------------------test查看缺失值--------------------------------------------------\n",
      "装修情况        52072\n",
      "居住状态        51796\n",
      "出租方式        51308\n",
      "地铁站点        29785\n",
      "地铁线路        29785\n",
      "距离          29785\n",
      "房屋面积            0\n",
      "小区名             0\n",
      "小区房屋出租数量        0\n",
      "楼层              0\n",
      "dtype: int64\n"
     ]
    }
   ],
   "source": [
    "house[\"位置\"][house[\"位置\"].isnull()] = house[\"位置\"].dropna().mode().values\n",
    "house[\"区\"][house[\"区\"].isnull()] = house[\"区\"].dropna().mode().values\n",
    "house[\"小区房屋出租数量\"][house[\"小区房屋出租数量\"].isnull()] = house[\"小区房屋出租数量\"].dropna().mode().values\n",
    "houseTest[\"位置\"][houseTest[\"位置\"].isnull()] = houseTest[\"位置\"].dropna().mode().values\n",
    "houseTest[\"区\"][houseTest[\"区\"].isnull()] = houseTest[\"区\"].dropna().mode().values\n",
    "houseTest[\"小区房屋出租数量\"][houseTest[\"小区房屋出租数量\"].isnull()] = houseTest[\"小区房屋出租数量\"].dropna().mode().values\n",
    "\n",
    "print(\"-\"*50 + \"train查看缺失值\" + \"-\"*50)\n",
    "print(house.isnull().sum().sort_values(ascending=False).head(10))\n",
    "print(\"-\"*50 + \"test查看缺失值\" + \"-\"*50)\n",
    "print(houseTest.isnull().sum().sort_values(ascending=False).head(10))\n",
    "\n"
   ]
  },
  {
   "cell_type": "code",
   "execution_count": 9,
   "metadata": {},
   "outputs": [],
   "source": [
    "# 装修情况肯定对租金价格有较大影响，我们现在有两万的装修数据，可以尝试下预测\n",
    "# 居住状态不太好预测，这个属于人为因素，但是应该有人居住的房子一定租金较低\n",
    "# 出租方式，妥妥的有影响，中介收费不一，朋友介绍肯定便宜\n",
    "# 距离应该是地铁站点到房子的距离，交通的影响\n",
    "# 地铁站这个不太好预测，因为住房附近可能压根没地铁\n",
    "# 小区出租数量，位置，区 可以直接干掉\n"
   ]
  },
  {
   "cell_type": "code",
   "execution_count": 10,
   "metadata": {
    "scrolled": true
   },
   "outputs": [
    {
     "name": "stdout",
     "output_type": "stream",
     "text": [
      "--------------------------------------------------house房屋朝向--------------------------------------------------\n",
      "['东南' '东' '南' '东北' '西南' '南 北' '西北' '西' '北' '东南 西南 西' '东 南' '东 东南' '南 西南'\n",
      " '东南 西北' '东 西南' '东南 南 西南' '东 南 西' '西南 西北' '东 东北' '东南 南' '东 西' '南 东' '西南 西'\n",
      " '东南 西南' '南 西' '西南 北' '西 北' '北 东北' '西 西北' '东南 东北' '西北 东北' '西北 北' '西南 东北'\n",
      " '东 东南 南' '东南 西' '南 西北' '东 北' '南 东北' '东 南 北' '东 西 北' '东 东南 北' '西南 西 东北'\n",
      " '东南 南 北' '东 南 西 北' '东 西北' '东南 北' '东南 西南 西北' '东南 南 西南 西' '南 西 北' '南 西南 西'\n",
      " '东 西 东北' '东 东南 西南' '南 西南 北' '东 南 西北 北' '东 西北 北' '北 南' '西 西北 北'\n",
      " '东 东南 南 西南 西' '北 西' '南 北 东北' '东南 西 北' '东 西南 北' '东 南 西南' '南 西南 西 西北']\n",
      "--------------------------------------------------houseTest房屋朝向--------------------------------------------------\n",
      "['东' '东南' '南' '西北' '西南' '西' '东北' '北' '南 北' '东 南' '东 北' '南 西' '东 西' '东 东南'\n",
      " '东 西南 北' '南 西南' '东 西北' '西北 北 东北' '东南 南' '东南 南 北' '西南 北' '东南 东北' '东南 西南'\n",
      " '东 西南' '东南 西北' '南 西南 北' '南 东' '西南 西北' '西北 北' '东 南 北' '南 西南 西 西北' '南 西北'\n",
      " '东 东北' '西 北' '东 南 西 北' '西南 西' '西北 东北' '东南 北' '东南 南 西南' '北 东北' '西 西北'\n",
      " '东南 西' '东 东南 南 西南 西' '东 东南 西南' '南 西南 西' '西南 东北' '南 西 北' '北 南' '南 东北'\n",
      " '东 南 西' '南 东南' '东 东南 南' '东 西 北' '东南 西南 西北']\n",
      "\n",
      "house 有 houseTest没有:\n",
      "['东南 西南 西', '东 东南 北', '西南 西 东北', '东南 南 西南 西', '东 西 东北', '东 南 西北 北', '东 西北 北', '西 西北 北', '北 西', '南 北 东北', '东南 西 北', '东 南 西南']\n",
      "house 没有 houseTest有:\n",
      "['西北 北 东北', '南 东南']\n",
      "house 有 houseTest有:\n",
      "['东', '东南', '南', '西北', '西南', '西', '东北', '北', '南 北', '东 南', '东 北', '南 西', '东 西', '东 东南', '东 西南 北', '南 西南', '东 西北', '东南 南', '东南 南 北', '西南 北', '东南 东北', '东南 西南', '东 西南', '东南 西北', '南 西南 北', '南 东', '西南 西北', '西北 北', '东 南 北', '南 西南 西 西北', '南 西北', '东 东北', '西 北', '东 南 西 北', '西南 西', '西北 东北', '东南 北', '东南 南 西南', '北 东北', '西 西北', '东南 西', '东 东南 南 西南 西', '东 东南 西南', '南 西南 西', '西南 东北', '南 西 北', '北 南', '南 东北', '东 南 西', '东 东南 南', '东 西 北', '东南 西南 西北']\n"
     ]
    }
   ],
   "source": [
    "# 特征工程\n",
    "\n",
    "# 房屋朝向\n",
    "print(\"-\"*50+\"house房屋朝向\"+\"-\"*50)\n",
    "house_orientation_unique = house[\"房屋朝向\"].unique()\n",
    "print(house[\"房屋朝向\"].unique())\n",
    "# print(house[\"房屋朝向\"].value_counts())\n",
    "print(\"-\"*50+\"houseTest房屋朝向\"+\"-\"*50)\n",
    "houseTest_orientation_unique = houseTest[\"房屋朝向\"].unique()\n",
    "print(houseTest[\"房屋朝向\"].unique())\n",
    "# print(houseTest[\"房屋朝向\"].value_counts())\n",
    "print()\n",
    "print(\"house 有 houseTest没有:\")\n",
    "print ([i for i in house_orientation_unique if i not in houseTest_orientation_unique])\n",
    "print(\"house 没有 houseTest有:\")\n",
    "print ([i for i in houseTest_orientation_unique if i not in house_orientation_unique])\n",
    "print(\"house 有 houseTest有:\")\n",
    "print ([i for i in houseTest_orientation_unique if i in house_orientation_unique])\n",
    "\n",
    "house_orientation = pd.DataFrame({'东':[0]*196539,'南':[0]*196539,\n",
    "                                 '西':[0]*196539,'北':[0]*196539,\n",
    "                                 '东南':[0]*196539,'东北':[0]*196539,\n",
    "                                 '西南':[0]*196539,'西北':[0]*196539,})\n",
    "houseTest_orientation = pd.DataFrame({'东':[0]*196539,'南':[0]*196539,\n",
    "                                 '西':[0]*196539,'北':[0]*196539,\n",
    "                                 '东南':[0]*196539,'东北':[0]*196539,\n",
    "                                 '西南':[0]*196539,'西北':[0]*196539,})\n",
    "house = house.join(house_orientation)\n",
    "# house\n",
    "\n",
    "# 将房屋朝向整成八个特征\n",
    "def orientation_dong(x):\n",
    "    lst = []\n",
    "    for i in x.split(\" \"):\n",
    "        lst.append(i)\n",
    "    dong = \"东\"\n",
    "    if dong in lst:\n",
    "        return 1\n",
    "    else:\n",
    "        return 0\n",
    "\n",
    "def orientation_nan(x):\n",
    "    lst = []\n",
    "    for i in x.split(\" \"):\n",
    "        lst.append(i)\n",
    "    nan = \"南\"\n",
    "    if nan in lst:\n",
    "        return 1\n",
    "    else:\n",
    "        return 0\n",
    "\n",
    "    \n",
    "def orientation_xi(x):\n",
    "    lst = []\n",
    "    for i in x.split(\" \"):\n",
    "        lst.append(i)\n",
    "    xi = \"西\"\n",
    "    if xi in lst:\n",
    "        return 1\n",
    "    else:\n",
    "        return 0\n",
    "\n",
    "\n",
    "def orientation_bei(x):\n",
    "    lst = []\n",
    "    for i in x.split(\" \"):\n",
    "        lst.append(i)\n",
    "    bei = \"北\"\n",
    "    if bei in lst:\n",
    "        return 1\n",
    "    else:\n",
    "        return 0\n",
    "\n",
    "    \n",
    "def orientation_dongNan(x):\n",
    "    lst = []\n",
    "    for i in x.split(\" \"):\n",
    "        lst.append(i)\n",
    "    dongNan = \"东南\"\n",
    "    if dongNan in lst:\n",
    "        return 1\n",
    "    else:\n",
    "        return 0\n",
    "\n",
    "    \n",
    "def orientation_dongBei(x):\n",
    "    lst = []\n",
    "    for i in x.split(\" \"):\n",
    "        lst.append(i)\n",
    "    dongBei = \"东北\"\n",
    "    if dongBei in lst:\n",
    "        return 1\n",
    "    else:\n",
    "        return 0\n",
    "\n",
    "    \n",
    "def orientation_xiNan(x):\n",
    "    lst = []\n",
    "    for i in x.split(\" \"):\n",
    "        lst.append(i)\n",
    "    xiNan = \"西南\"\n",
    "    if xiNan in lst:\n",
    "        return 1\n",
    "    else:\n",
    "        return 0\n",
    "\n",
    "    \n",
    "def orientation_xiBei(x):\n",
    "    lst = []\n",
    "    for i in x.split(\" \"):\n",
    "        lst.append(i)\n",
    "    xiBei = \"西北\"\n",
    "    if xiBei in lst:\n",
    "        return 1\n",
    "    else:\n",
    "        return 0\n",
    "\n",
    "    \n",
    "house['东'] = house['房屋朝向'].apply(lambda x : orientation_dong(x) )\n",
    "house['南'] = house['房屋朝向'].apply(lambda x : orientation_nan(x) )\n",
    "house['西'] = house['房屋朝向'].apply(lambda x : orientation_xi(x) )\n",
    "house['北'] = house['房屋朝向'].apply(lambda x : orientation_bei(x) )\n",
    "house['东南'] = house['房屋朝向'].apply(lambda x : orientation_dongNan(x) )\n",
    "house['东北'] = house['房屋朝向'].apply(lambda x : orientation_dongBei(x) )\n",
    "house['西南'] = house['房屋朝向'].apply(lambda x : orientation_xiNan(x) )\n",
    "house['西北'] = house['房屋朝向'].apply(lambda x : orientation_xiBei(x) )\n",
    "\n",
    "houseTest['东'] = houseTest['房屋朝向'].apply(lambda x : orientation_dong(x) )\n",
    "houseTest['南'] = houseTest['房屋朝向'].apply(lambda x : orientation_nan(x) )\n",
    "houseTest['西'] = houseTest['房屋朝向'].apply(lambda x : orientation_xi(x) )\n",
    "houseTest['北'] = houseTest['房屋朝向'].apply(lambda x : orientation_bei(x) )\n",
    "houseTest['东南'] = houseTest['房屋朝向'].apply(lambda x : orientation_dongNan(x) )\n",
    "houseTest['东北'] = houseTest['房屋朝向'].apply(lambda x : orientation_dongBei(x) )\n",
    "houseTest['西南'] = houseTest['房屋朝向'].apply(lambda x : orientation_xiNan(x) )\n",
    "houseTest['西北'] = houseTest['房屋朝向'].apply(lambda x : orientation_xiBei(x) )\n",
    "\n",
    "house = house.drop(\"房屋朝向\",axis=1)\n",
    "houseTest = houseTest.drop(\"房屋朝向\",axis=1)\n",
    "# house\n"
   ]
  },
  {
   "cell_type": "code",
   "execution_count": 11,
   "metadata": {},
   "outputs": [
    {
     "name": "stdout",
     "output_type": "stream",
     "text": [
      "house_factorize:  [   0    1    2 ...  183  558 2097]\n",
      "houseTest_factorize:  [   0    1    2 ...  338  242 1385]\n"
     ]
    }
   ],
   "source": [
    "qu_dummies = pd.get_dummies(house.区)\n",
    "quTest_dummies = pd.get_dummies(houseTest.区)\n",
    "\n",
    "house = house.join(qu_dummies)\n",
    "houseTest = houseTest.join(quTest_dummies)\n",
    "\n",
    "house_communityName_factorize = pd.factorize(house.小区名)[0]\n",
    "houseTest_communityName_factorize = pd.factorize(houseTest.小区名)[0]\n",
    "print(\"house_factorize: \",house_communityName_factorize)\n",
    "print(\"houseTest_factorize: \",houseTest_communityName_factorize)\n",
    "\n",
    "house = house.drop([\"小区名\"],axis=1)\n",
    "houseTest = houseTest.drop([\"小区名\"],axis=1)\n",
    "house['小区名'] = house_communityName_factorize\n",
    "houseTest[\"小区名\"] = houseTest_communityName_factorize\n",
    "# house"
   ]
  },
  {
   "cell_type": "code",
   "execution_count": 12,
   "metadata": {},
   "outputs": [
    {
     "name": "stdout",
     "output_type": "stream",
     "text": [
      "--------------------------------------------------train查看缺失值--------------------------------------------------\n",
      "装修情况    178047\n",
      "居住状态    176401\n",
      "出租方式    172309\n",
      "距离      104761\n",
      "地铁站点    104761\n",
      "地铁线路    104761\n",
      "区            0\n",
      "东            0\n",
      "月租金          0\n",
      "位置           0\n",
      "dtype: int64\n",
      "--------------------------------------------------test查看缺失值--------------------------------------------------\n",
      "装修情况    52072\n",
      "居住状态    51796\n",
      "出租方式    51308\n",
      "距离      29785\n",
      "地铁站点    29785\n",
      "地铁线路    29785\n",
      "小区名         0\n",
      "东           0\n",
      "位置          0\n",
      "区           0\n",
      "dtype: int64\n"
     ]
    }
   ],
   "source": [
    "print(\"-\"*50 + \"train查看缺失值\" + \"-\"*50)\n",
    "print(house.isnull().sum().sort_values(ascending=False).head(10))\n",
    "print(\"-\"*50 + \"test查看缺失值\" + \"-\"*50)\n",
    "print(houseTest.isnull().sum().sort_values(ascending=False).head(10))"
   ]
  },
  {
   "cell_type": "code",
   "execution_count": 13,
   "metadata": {},
   "outputs": [],
   "source": [
    "house['装修情况'] = house['装修情况'].fillna(0)\n",
    "house['居住状态'] = house['居住状态'].fillna(0)\n",
    "house['出租方式'] = house['出租方式'].fillna(-9999)\n",
    "# house['距离'] = house['距离'].fillna(0)\n",
    "# house['地铁站点'] = house['地铁站点'].fillna(0)\n",
    "# house['地铁线路'] = house['地铁线路'].fillna(0)\n",
    "\n",
    "houseTest['装修情况'] = houseTest['装修情况'].fillna(0)\n",
    "houseTest['居住状态'] = houseTest['居住状态'].fillna(0)\n",
    "houseTest['出租方式'] = houseTest['出租方式'].fillna(-9999)\n",
    "# houseTest['距离'] = houseTest['距离'].fillna(0)\n",
    "# houseTest['地铁站点'] = houseTest['地铁站点'].fillna(0)\n",
    "# houseTest['地铁线路'] = houseTest['地铁线路'].fillna(0)\n"
   ]
  },
  {
   "cell_type": "code",
   "execution_count": null,
   "metadata": {},
   "outputs": [],
   "source": []
  },
  {
   "cell_type": "code",
   "execution_count": 14,
   "metadata": {},
   "outputs": [
    {
     "name": "stderr",
     "output_type": "stream",
     "text": [
      "c:\\users\\dell\\appdata\\local\\programs\\python\\python37\\lib\\site-packages\\sklearn\\ensemble\\weight_boosting.py:29: DeprecationWarning: numpy.core.umath_tests is an internal NumPy module and should not be imported. It will be removed in a future NumPy release.\n",
      "  from numpy.core.umath_tests import inner1d\n"
     ]
    }
   ],
   "source": [
    "from xgboost import XGBRegressor\n",
    "from sklearn.model_selection import train_test_split\n",
    "from sklearn.ensemble import AdaBoostRegressor\n",
    "from sklearn import model_selection\n",
    "\n",
    "houseTest = houseTest.drop([\"区\"],axis=1)\n",
    "x = house.drop([\"月租金\",\"区\"],axis=1)\n",
    "y = house.月租金\n",
    "\n",
    "x_train,x_test, y_train,y_test = train_test_split(x,y,test_size=0.2, random_state=10)"
   ]
  },
  {
   "cell_type": "code",
   "execution_count": null,
   "metadata": {},
   "outputs": [
    {
     "name": "stdout",
     "output_type": "stream",
     "text": [
      "Training:\n"
     ]
    }
   ],
   "source": [
    "# clf_est =XGBRegressor(random_state=1314)\n",
    "\n",
    "# # XGBRegressor(base_score=0.5, booster='gbtree', colsample_bylevel=1,\n",
    "# #        colsample_bytree=0.6, gamma=0.9, learning_rate=0.2,\n",
    "# #        max_delta_step=0, max_depth=20, min_child_weight=10, missing=nan,\n",
    "# #        n_estimators=500, n_jobs=1, nthread=None, objective='reg:linear',\n",
    "# #        random_state=11, reg_alpha=0, reg_lambda=1, scale_pos_weight=1,\n",
    "# #        seed=None, silent=True, subsample=0.95)\n",
    "\n",
    "# clf_param_grid = {'n_estimators': [800],\n",
    "#                   'learning_rate': [0.1], \n",
    "#                  'max_depth': [25], \n",
    "#                   'min_child_weight': [5], \n",
    "#                   'gamma':[0.9], \n",
    "#                   'subsample':[0.95],\n",
    "#                   'colsample_bytree':[0.6]}\n",
    "# clf_grid = model_selection.GridSearchCV(clf_est, clf_param_grid, n_jobs=4, cv=3, verbose=1)\n",
    "# print(\"fitting\")\n",
    "# clf_grid.fit(x_train, y_train)\n",
    "\n",
    "# print('BestParams: ' + str(clf_grid.best_params_))\n",
    "print('Training:')\n",
    "# clf = XGBRegressor(n_estimators = clf_grid.best_estimator_.n_estimators,\n",
    "#                    learning_rate = clf_grid.best_estimator_.learning_rate,\n",
    "#                    max_depth = clf_grid.best_estimator_.max_depth,\n",
    "#                    min_child_weight = clf_grid.best_estimator_.min_child_weight,\n",
    "#                    gamma = clf_grid.best_estimator_.gamma,\n",
    "#                    subsample = clf_grid.best_estimator_.subsample,\n",
    "#                    colsample_bytree = clf_grid.best_estimator_.colsample_bytree,\n",
    "#                    random_state=1314)\n",
    "clf = XGBRegressor(n_estimators = 800 ,\n",
    "                   learning_rate = 0.1,\n",
    "                   max_depth = 25,\n",
    "                   min_child_weight = 5,s\n",
    "                   gamma = 0.92,\n",
    "                   subsample = 0.95,\n",
    "                   colsample_bytree = 0.6,\n",
    "                   random_state=1314)\n",
    "clf.fit(x_train, y_train)\n",
    "print('Training Finished')\n"
   ]
  },
  {
   "cell_type": "code",
   "execution_count": null,
   "metadata": {},
   "outputs": [],
   "source": []
  },
  {
   "cell_type": "code",
   "execution_count": 16,
   "metadata": {},
   "outputs": [
    {
     "name": "stdout",
     "output_type": "stream",
     "text": [
      "I LOVE YOUU\n",
      "评分：\n",
      "Boost:  0.8166561919106732\n",
      "1.8296482637756373\n"
     ]
    }
   ],
   "source": [
    "predictions = clf.predict(houseTest.astype(float))\n",
    "Submission = pd.DataFrame({'id': Id, \n",
    "                           'price': predictions})\n",
    "Submission.to_csv('Submission.csv',index=False,sep=',')\n",
    "print(\"I LOVE YOUU\")\n",
    "\n",
    "\n",
    "print(\"评分：\")\n",
    "from sklearn.model_selection import cross_val_score\n",
    "\n",
    "scores = cross_val_score(clf,x_test,y_test)\n",
    "print(\"Boost: \",scores.mean())\n",
    "from sklearn import metrics\n",
    "\n",
    "y_pred_xgb = clf.predict(x_test)\n",
    "# 均方根误差\n",
    "print(metrics.mean_squared_error(y_test,y_pred_xgb)) # 1.85"
   ]
  },
  {
   "cell_type": "code",
   "execution_count": 17,
   "metadata": {},
   "outputs": [],
   "source": [
    "\n",
    "\n",
    "# clf = joblib.load('clf2.09.pkl')    # 下载模型\n",
    "# print(clf)\n",
    "\n",
    "# print(\"评分：\")\n",
    "# from sklearn.model_selection import cross_val_score\n",
    "\n",
    "# scores = cross_val_score(clf,x_test,y_test)\n",
    "# print(\"Boost: \",scores.mean())"
   ]
  },
  {
   "cell_type": "code",
   "execution_count": null,
   "metadata": {},
   "outputs": [],
   "source": []
  },
  {
   "cell_type": "code",
   "execution_count": 18,
   "metadata": {},
   "outputs": [
    {
     "name": "stdout",
     "output_type": "stream",
     "text": [
      "XGBRegressor(base_score=0.5, booster='gbtree', colsample_bylevel=1,\n",
      "       colsample_bytree=0.6, gamma=0.92, learning_rate=0.1,\n",
      "       max_delta_step=0, max_depth=25, min_child_weight=5, missing=nan,\n",
      "       n_estimators=800, n_jobs=1, nthread=None, objective='reg:linear',\n",
      "       random_state=1314, reg_alpha=0, reg_lambda=1, scale_pos_weight=1,\n",
      "       seed=None, silent=True, subsample=0.95)\n"
     ]
    }
   ],
   "source": [
    "from sklearn.externals import joblib\n",
    "\n",
    "joblib.dump(clf, 'clf2.09.pkl')       # 保存模型，需先建立saved_model文件夹\n",
    "\n",
    "clf = joblib.load('clf2.09.pkl')    # 下载模型\n",
    "print(clf)"
   ]
  },
  {
   "cell_type": "code",
   "execution_count": 19,
   "metadata": {},
   "outputs": [],
   "source": [
    "# BestParams: {'colsample_bytree': 0.6, 'gamma': 0.9, \n",
    "# 'learning_rate': 0.17, 'max_depth': 25, 'min_child_weight': 10, 'n_estimators': 500, 'subsample': 0.95}\n",
    "# 自己算的：1.780945030740077"
   ]
  },
  {
   "cell_type": "code",
   "execution_count": 20,
   "metadata": {},
   "outputs": [],
   "source": [
    "# BestParams: {'colsample_bytree': 0.6, 'gamma': 0.9, \n",
    "#              'learning_rate': 0.15, 'max_depth': 25, 'min_child_weight': 7, 'n_estimators': 800, 'subsample': 0.95}\n",
    "# 自己算的：1.797407850569836"
   ]
  },
  {
   "cell_type": "code",
   "execution_count": null,
   "metadata": {},
   "outputs": [],
   "source": []
  },
  {
   "cell_type": "code",
   "execution_count": null,
   "metadata": {},
   "outputs": [],
   "source": []
  },
  {
   "cell_type": "code",
   "execution_count": null,
   "metadata": {},
   "outputs": [],
   "source": []
  },
  {
   "cell_type": "code",
   "execution_count": null,
   "metadata": {},
   "outputs": [],
   "source": []
  },
  {
   "cell_type": "code",
   "execution_count": null,
   "metadata": {},
   "outputs": [],
   "source": []
  },
  {
   "cell_type": "code",
   "execution_count": null,
   "metadata": {},
   "outputs": [],
   "source": []
  },
  {
   "cell_type": "code",
   "execution_count": null,
   "metadata": {},
   "outputs": [],
   "source": []
  },
  {
   "cell_type": "code",
   "execution_count": null,
   "metadata": {},
   "outputs": [],
   "source": []
  },
  {
   "cell_type": "code",
   "execution_count": null,
   "metadata": {},
   "outputs": [],
   "source": []
  },
  {
   "cell_type": "code",
   "execution_count": null,
   "metadata": {
    "scrolled": true
   },
   "outputs": [],
   "source": []
  },
  {
   "cell_type": "code",
   "execution_count": null,
   "metadata": {},
   "outputs": [],
   "source": []
  },
  {
   "cell_type": "code",
   "execution_count": null,
   "metadata": {},
   "outputs": [],
   "source": []
  },
  {
   "cell_type": "code",
   "execution_count": null,
   "metadata": {},
   "outputs": [],
   "source": []
  },
  {
   "cell_type": "code",
   "execution_count": null,
   "metadata": {},
   "outputs": [],
   "source": []
  },
  {
   "cell_type": "code",
   "execution_count": null,
   "metadata": {},
   "outputs": [],
   "source": []
  }
 ],
 "metadata": {
  "kernelspec": {
   "display_name": "Python 3",
   "language": "python",
   "name": "python3"
  },
  "language_info": {
   "codemirror_mode": {
    "name": "ipython",
    "version": 3
   },
   "file_extension": ".py",
   "mimetype": "text/x-python",
   "name": "python",
   "nbconvert_exporter": "python",
   "pygments_lexer": "ipython3",
   "version": "3.7.0"
  }
 },
 "nbformat": 4,
 "nbformat_minor": 2
}
